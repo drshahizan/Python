{
  "cells": [
    {
      "cell_type": "markdown",
      "metadata": {
        "id": "view-in-github",
        "colab_type": "text"
      },
      "source": [
        "<a href=\"https://colab.research.google.com/github/drshahizan/python-tutorial/blob/main/lab/submission/Truth_Archieve/lab1/lab1a_by_hazem.ipynb\" target=\"_parent\"><img src=\"https://colab.research.google.com/assets/colab-badge.svg\" alt=\"Open In Colab\"/></a>"
      ]
    },
    {
      "cell_type": "markdown",
      "metadata": {
        "id": "pGUbLum0PmgK"
      },
      "source": [
        "# Lab 1a - Understanding Your Data"
      ]
    },
    {
      "cell_type": "markdown",
      "metadata": {
        "id": "n-DWtPqgPmgK"
      },
      "source": [
        "Please use the [**Chipotle Sales dataset**](https://raw.githubusercontent.com/drshahizan/dataset/main/pandas/chipotle.tsv) for this exercise."
      ]
    },
    {
      "cell_type": "markdown",
      "metadata": {
        "id": "M19mI54QPmgL"
      },
      "source": [
        "\n",
        "\n",
        "### Step 1. Import the necessary libraries"
      ]
    },
    {
      "cell_type": "code",
      "execution_count": null,
      "metadata": {
        "id": "vk9TJLzbPmgL"
      },
      "outputs": [],
      "source": [
        "import pandas as pd"
      ]
    },
    {
      "cell_type": "markdown",
      "metadata": {
        "id": "wD3rkKtuPmgL"
      },
      "source": [
        "### Step 2. Import the dataset from this [address](https://raw.githubusercontent.com/drshahizan/dataset/main/pandas/chipotle.tsv)."
      ]
    },
    {
      "cell_type": "markdown",
      "metadata": {
        "id": "8wzXm6yvPmgL"
      },
      "source": [
        "### Step 3. Assign it to a variable called chipo."
      ]
    },
    {
      "cell_type": "code",
      "execution_count": null,
      "metadata": {
        "id": "WmAhnAzePmgL"
      },
      "outputs": [],
      "source": [
        "data = pd.read_csv('https://raw.githubusercontent.com/drshahizan/dataset/main/pandas/chipotle.tsv', sep='\\t', index_col='order_id')"
      ]
    },
    {
      "cell_type": "markdown",
      "metadata": {
        "id": "NVu3Ers7PmgM"
      },
      "source": [
        "### Step 4. See the first 10 entries"
      ]
    },
    {
      "cell_type": "code",
      "execution_count": null,
      "metadata": {
        "scrolled": false,
        "colab": {
          "base_uri": "https://localhost:8080/"
        },
        "id": "QHxXWf0UPmgM",
        "outputId": "3b6a53ba-c8c3-43f9-b984-4066f718c8a5"
      },
      "outputs": [
        {
          "output_type": "stream",
          "name": "stdout",
          "text": [
            "          quantity                              item_name  \\\n",
            "order_id                                                    \n",
            "1                1           Chips and Fresh Tomato Salsa   \n",
            "1                1                                   Izze   \n",
            "1                1                       Nantucket Nectar   \n",
            "1                1  Chips and Tomatillo-Green Chili Salsa   \n",
            "2                2                           Chicken Bowl   \n",
            "3                1                           Chicken Bowl   \n",
            "3                1                          Side of Chips   \n",
            "4                1                          Steak Burrito   \n",
            "4                1                       Steak Soft Tacos   \n",
            "5                1                          Steak Burrito   \n",
            "\n",
            "                                         choice_description item_price  \n",
            "order_id                                                                \n",
            "1                                                       NaN     $2.39   \n",
            "1                                              [Clementine]     $3.39   \n",
            "1                                                   [Apple]     $3.39   \n",
            "1                                                       NaN     $2.39   \n",
            "2         [Tomatillo-Red Chili Salsa (Hot), [Black Beans...    $16.98   \n",
            "3         [Fresh Tomato Salsa (Mild), [Rice, Cheese, Sou...    $10.98   \n",
            "3                                                       NaN     $1.69   \n",
            "4         [Tomatillo Red Chili Salsa, [Fajita Vegetables...    $11.75   \n",
            "4         [Tomatillo Green Chili Salsa, [Pinto Beans, Ch...     $9.25   \n",
            "5         [Fresh Tomato Salsa, [Rice, Black Beans, Pinto...     $9.25   \n"
          ]
        }
      ],
      "source": [
        "first10= data.head(10)\n",
        "print(first10)"
      ]
    },
    {
      "cell_type": "markdown",
      "metadata": {
        "id": "RJZdcClAPmgM"
      },
      "source": [
        "### Step 5. What is the number of observations in the dataset?"
      ]
    },
    {
      "cell_type": "code",
      "execution_count": null,
      "metadata": {
        "colab": {
          "base_uri": "https://localhost:8080/"
        },
        "id": "v-WjLSDwPmgM",
        "outputId": "7efb671e-cfdb-41b8-e0c0-eb931bd246f9"
      },
      "outputs": [
        {
          "output_type": "stream",
          "name": "stdout",
          "text": [
            "n of observers are: 4622\n"
          ]
        }
      ],
      "source": [
        "# Solution 1\n",
        "\n",
        "num_observation=data.shape[0]\n",
        "print(\"n of observers are:\", num_observation)"
      ]
    },
    {
      "cell_type": "code",
      "execution_count": null,
      "metadata": {
        "colab": {
          "base_uri": "https://localhost:8080/"
        },
        "id": "RAWx891fPmgM",
        "outputId": "cfc70bff-7ec7-4827-fa46-418d9f0c1e74"
      },
      "outputs": [
        {
          "output_type": "stream",
          "name": "stdout",
          "text": [
            "n of observers are: 4622\n"
          ]
        }
      ],
      "source": [
        "# Solution 2\n",
        "\n",
        "num_observation=len(data)\n",
        "print(\"n of observers are:\", num_observation)"
      ]
    },
    {
      "cell_type": "markdown",
      "metadata": {
        "id": "6ZFaWf7xPmgM"
      },
      "source": [
        "### Step 6. What is the number of columns in the dataset?"
      ]
    },
    {
      "cell_type": "code",
      "execution_count": null,
      "metadata": {
        "colab": {
          "base_uri": "https://localhost:8080/"
        },
        "id": "jJgVjscVPmgM",
        "outputId": "f5ecc2c8-b501-4f8c-cb9a-4351de3eac4d"
      },
      "outputs": [
        {
          "output_type": "stream",
          "name": "stdout",
          "text": [
            "N of columns are: 4\n"
          ]
        }
      ],
      "source": [
        "num_column=data.shape[1]\n",
        "print(\"N of columns are:\", num_column)"
      ]
    },
    {
      "cell_type": "markdown",
      "metadata": {
        "id": "2INDGcT-PmgN"
      },
      "source": [
        "### Step 7. Print the name of all the columns."
      ]
    },
    {
      "cell_type": "code",
      "execution_count": null,
      "metadata": {
        "colab": {
          "base_uri": "https://localhost:8080/"
        },
        "id": "SaQp9EbOPmgN",
        "outputId": "3dc39536-b5e0-4092-88a5-3460ae808ab0"
      },
      "outputs": [
        {
          "output_type": "stream",
          "name": "stdout",
          "text": [
            "Column names are:\n",
            "quantity\n",
            "item_name\n",
            "choice_description\n",
            "item_price\n"
          ]
        }
      ],
      "source": [
        "column_names=data.columns\n",
        "print(\"Column names are:\")\n",
        "for c in column_names:\n",
        "  print(c)"
      ]
    },
    {
      "cell_type": "markdown",
      "metadata": {
        "id": "HyurtelWPmgN"
      },
      "source": [
        "### Step 8. How is the dataset indexed?"
      ]
    },
    {
      "cell_type": "code",
      "execution_count": null,
      "metadata": {
        "colab": {
          "base_uri": "https://localhost:8080/"
        },
        "id": "POn86G17PmgN",
        "outputId": "460e1f3d-26b1-4d8b-b62d-01df18226e73"
      },
      "outputs": [
        {
          "output_type": "stream",
          "name": "stdout",
          "text": [
            "Index of the dataset: Int64Index([   1,    1,    1,    1,    2,    3,    3,    4,    4,    5,\n",
            "            ...\n",
            "            1831, 1831, 1831, 1832, 1832, 1833, 1833, 1834, 1834, 1834],\n",
            "           dtype='int64', name='order_id', length=4622)\n"
          ]
        }
      ],
      "source": [
        "index_info=data.index\n",
        "print(\"Index of the dataset:\", index_info)"
      ]
    },
    {
      "cell_type": "markdown",
      "metadata": {
        "id": "jkV-yGWtPmgN"
      },
      "source": [
        "### Step 9. Which was the most-ordered item?"
      ]
    },
    {
      "cell_type": "code",
      "execution_count": null,
      "metadata": {
        "colab": {
          "base_uri": "https://localhost:8080/"
        },
        "id": "MY2PQgSuPmgN",
        "outputId": "92549e87-ada6-44a4-ea78-14bae6f6309d"
      },
      "outputs": [
        {
          "output_type": "stream",
          "name": "stdout",
          "text": [
            "most orderd item is:  Chicken Bowl\n"
          ]
        }
      ],
      "source": [
        "most_item=data['item_name'].value_counts().idxmax()\n",
        "print(\"most orderd item is: \", most_item)"
      ]
    },
    {
      "cell_type": "markdown",
      "metadata": {
        "id": "ijayNrr1PmgN"
      },
      "source": [
        "### Step 10. For the most-ordered item, how many items were ordered?"
      ]
    },
    {
      "cell_type": "code",
      "execution_count": null,
      "metadata": {
        "colab": {
          "base_uri": "https://localhost:8080/"
        },
        "id": "jRoUQrbsPmgN",
        "outputId": "7c5369a5-ffba-421b-f679-9bebd42d1c8d"
      },
      "outputs": [
        {
          "output_type": "stream",
          "name": "stdout",
          "text": [
            "number of itme orderd is:  726\n"
          ]
        }
      ],
      "source": [
        "count_most_order=data['item_name'].value_counts().max()\n",
        "print(\"number of itme orderd is: \", count_most_order)"
      ]
    },
    {
      "cell_type": "markdown",
      "metadata": {
        "id": "nQ5sEPLjPmgN"
      },
      "source": [
        "### Step 11. What was the most ordered item in the choice_description column?"
      ]
    },
    {
      "cell_type": "code",
      "execution_count": null,
      "metadata": {
        "colab": {
          "base_uri": "https://localhost:8080/"
        },
        "id": "1QnvBiHfPmgP",
        "outputId": "d1cb524d-51bf-4528-e0c1-a506cc9fd397"
      },
      "outputs": [
        {
          "output_type": "stream",
          "name": "stdout",
          "text": [
            "most orderd item in choice description is:  [Diet Coke]\n"
          ]
        }
      ],
      "source": [
        "most_item_inchoice=data['choice_description'].value_counts().idxmax()\n",
        "print(\"most orderd item in choice description is: \", most_item_inchoice)"
      ]
    },
    {
      "cell_type": "markdown",
      "metadata": {
        "id": "rOpafNBQPmgP"
      },
      "source": [
        "### Step 12. How many items were orderd in total?"
      ]
    },
    {
      "cell_type": "code",
      "execution_count": null,
      "metadata": {
        "id": "lyPkRy7kPmgP",
        "colab": {
          "base_uri": "https://localhost:8080/"
        },
        "outputId": "65bfa292-1997-4da1-eeac-0800efc66e1c"
      },
      "outputs": [
        {
          "output_type": "stream",
          "name": "stdout",
          "text": [
            "total number of items sold is:  4622\n"
          ]
        }
      ],
      "source": [
        "total_items=data['item_name'].value_counts().sum()\n",
        "print(\"total number of items sold is: \", total_items)"
      ]
    },
    {
      "cell_type": "markdown",
      "metadata": {
        "id": "ertp_gRoPmgP"
      },
      "source": [
        "### Step 13. Turn the item price into a float"
      ]
    },
    {
      "cell_type": "markdown",
      "metadata": {
        "id": "iqe6uMatPmgP"
      },
      "source": [
        "#### Step 13.a. Check the item price type"
      ]
    },
    {
      "cell_type": "code",
      "execution_count": null,
      "metadata": {
        "id": "xyQYRwzTPmgP",
        "colab": {
          "base_uri": "https://localhost:8080/"
        },
        "outputId": "c2d73261-90a0-4fdb-cfa2-332eb1155f81"
      },
      "outputs": [
        {
          "output_type": "stream",
          "name": "stdout",
          "text": [
            "itemdatatype is:  object\n"
          ]
        }
      ],
      "source": [
        "price_type= data['item_price'].dtype\n",
        "print(\"itemdatatype is: \", price_type)"
      ]
    },
    {
      "cell_type": "markdown",
      "metadata": {
        "id": "bjFoptGPPmgQ"
      },
      "source": [
        "#### Step 13.b. Create a lambda function and change the type of item price"
      ]
    },
    {
      "cell_type": "code",
      "execution_count": null,
      "metadata": {
        "collapsed": true,
        "id": "9GMH0CJ3PmgQ"
      },
      "outputs": [],
      "source": [
        "data['item_price'] = data['item_price'].apply(lambda x: float(x.replace(' ','').replace('$','')))"
      ]
    },
    {
      "cell_type": "markdown",
      "metadata": {
        "id": "XZZihOCsPmgQ"
      },
      "source": [
        "#### Step 13.c. Check the item price type"
      ]
    },
    {
      "cell_type": "code",
      "execution_count": null,
      "metadata": {
        "id": "sz0h4jHwPmgQ",
        "colab": {
          "base_uri": "https://localhost:8080/"
        },
        "outputId": "2efaa485-7ba7-4cea-e4d0-aca232b86b33"
      },
      "outputs": [
        {
          "output_type": "stream",
          "name": "stdout",
          "text": [
            "itemdatatype is:  float64\n"
          ]
        }
      ],
      "source": [
        "price_type= data['item_price'].dtype\n",
        "print(\"itemdatatype is: \", price_type)"
      ]
    },
    {
      "cell_type": "markdown",
      "metadata": {
        "id": "S2hwSRbPPmgQ"
      },
      "source": [
        "### Step 14. How much was the revenue for the period in the dataset?"
      ]
    },
    {
      "cell_type": "code",
      "execution_count": null,
      "metadata": {
        "id": "j8wKGsbtPmgQ",
        "colab": {
          "base_uri": "https://localhost:8080/"
        },
        "outputId": "58c2e1d3-2935-433d-91be-105a8928d605"
      },
      "outputs": [
        {
          "output_type": "stream",
          "name": "stdout",
          "text": [
            "total revenue is:  39237.02\n"
          ]
        }
      ],
      "source": [
        "data['total_price'] = data['quantity'] * data['item_price']\n",
        "total_revenue=data['total_price'].sum()\n",
        "print(\"total revenue is: \", total_revenue)"
      ]
    },
    {
      "cell_type": "code",
      "source": [
        "print(data.columns)"
      ],
      "metadata": {
        "colab": {
          "base_uri": "https://localhost:8080/"
        },
        "id": "KPwVNRH7cnlT",
        "outputId": "6e3dd383-0aa0-4555-f4b6-f6f6e6d58615"
      },
      "execution_count": null,
      "outputs": [
        {
          "output_type": "stream",
          "name": "stdout",
          "text": [
            "Index(['quantity', 'item_name', 'choice_description', 'item_price',\n",
            "       'total_price'],\n",
            "      dtype='object')\n"
          ]
        }
      ]
    },
    {
      "cell_type": "markdown",
      "metadata": {
        "id": "R1JizpMEPmgQ"
      },
      "source": [
        "### Step 15. How many orders were made in the period?"
      ]
    },
    {
      "cell_type": "code",
      "execution_count": null,
      "metadata": {
        "id": "fuRHQIdOPmgQ",
        "colab": {
          "base_uri": "https://localhost:8080/"
        },
        "outputId": "b2d748e7-9a4a-417c-ca6c-0359f758a50f"
      },
      "outputs": [
        {
          "output_type": "stream",
          "name": "stdout",
          "text": [
            "total orders:  1834\n"
          ]
        }
      ],
      "source": [
        "total_orders=data.index.nunique()\n",
        "print(\"total orders: \", total_orders)"
      ]
    },
    {
      "cell_type": "markdown",
      "metadata": {
        "id": "WqieaXxiPmgQ"
      },
      "source": [
        "### Step 16. What is the average revenue amount per order?"
      ]
    },
    {
      "cell_type": "code",
      "execution_count": null,
      "metadata": {
        "id": "IHS14o-QPmgQ",
        "colab": {
          "base_uri": "https://localhost:8080/"
        },
        "outputId": "5f2dc941-646b-47db-a944-93baec7b5acd"
      },
      "outputs": [
        {
          "output_type": "stream",
          "name": "stdout",
          "text": [
            "average reveinu is:  21.39423118865867\n"
          ]
        }
      ],
      "source": [
        "# Solution 1\n",
        "average_per_order= total_revenue/total_orders\n",
        "print(\"average reveinu is: \", average_per_order)"
      ]
    },
    {
      "cell_type": "code",
      "execution_count": null,
      "metadata": {
        "id": "bgdMkvebPmgU",
        "colab": {
          "base_uri": "https://localhost:8080/"
        },
        "outputId": "8261634b-18ab-4521-e728-c6f7dc7631b8"
      },
      "outputs": [
        {
          "output_type": "stream",
          "name": "stdout",
          "text": [
            "average reveinu is:  21.39423118865867\n"
          ]
        }
      ],
      "source": [
        "# Solution 2\n",
        "average_per_order =(data['quantity'] * data['item_price']).sum() /(data.index.nunique())\n",
        "print(\"average reveinu is: \", average_per_order)"
      ]
    },
    {
      "cell_type": "markdown",
      "metadata": {
        "id": "XHnLPaoJPmgV"
      },
      "source": [
        "### Step 17. How many different items are sold?"
      ]
    },
    {
      "cell_type": "code",
      "execution_count": null,
      "metadata": {
        "id": "Xn0TOLNtPmgV",
        "colab": {
          "base_uri": "https://localhost:8080/"
        },
        "outputId": "265bfcff-527d-46ec-d9be-a3b0cb1dd068"
      },
      "outputs": [
        {
          "output_type": "stream",
          "name": "stdout",
          "text": [
            "Total number of diffrent items is:  50\n"
          ]
        }
      ],
      "source": [
        "diffrent_items = data['item_name'].nunique()\n",
        "print(\"Total number of diffrent items is: \", diffrent_items)"
      ]
    }
  ],
  "metadata": {
    "anaconda-cloud": {},
    "kernelspec": {
      "display_name": "Python [default]",
      "language": "python",
      "name": "python2"
    },
    "language_info": {
      "codemirror_mode": {
        "name": "ipython",
        "version": 2
      },
      "file_extension": ".py",
      "mimetype": "text/x-python",
      "name": "python",
      "nbconvert_exporter": "python",
      "pygments_lexer": "ipython2",
      "version": "2.7.12"
    },
    "colab": {
      "provenance": [],
      "include_colab_link": true
    }
  },
  "nbformat": 4,
  "nbformat_minor": 0
}