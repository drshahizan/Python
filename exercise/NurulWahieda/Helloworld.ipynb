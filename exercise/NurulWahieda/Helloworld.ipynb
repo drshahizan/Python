{
  "nbformat": 4,
  "nbformat_minor": 0,
  "metadata": {
    "colab": {
      "provenance": [],
      "toc_visible": true,
      "authorship_tag": "ABX9TyOWKUClj20UeFdzoQgURCB5",
      "include_colab_link": true
    },
    "kernelspec": {
      "name": "python3",
      "display_name": "Python 3"
    },
    "language_info": {
      "name": "python"
    }
  },
  "cells": [
    {
      "cell_type": "markdown",
      "metadata": {
        "id": "view-in-github",
        "colab_type": "text"
      },
      "source": [
        "<a href=\"https://colab.research.google.com/github/drshahizan/python-tutorial/blob/main/exercise/NurulWahieda/Helloworld.ipynb\" target=\"_parent\"><img src=\"https://colab.research.google.com/assets/colab-badge.svg\" alt=\"Open In Colab\"/></a>"
      ]
    },
    {
      "cell_type": "code",
      "execution_count": null,
      "metadata": {
        "id": "CKeSJzMCQuBH"
      },
      "outputs": [],
      "source": []
    },
    {
      "cell_type": "markdown",
      "source": [
        "# Hello world\n",
        "## Hello world\n",
        "### Hello world\n",
        "#### Hello world"
      ],
      "metadata": {
        "id": "sD_U9HOhTlsN"
      }
    },
    {
      "cell_type": "markdown",
      "source": [
        "## Personal Information\n",
        "- **Full Name:** Nurul Wahieda\n",
        "- **Age:** 25 yearls old\n",
        "- **Current Location:** Johor Bahru"
      ],
      "metadata": {
        "id": "tcRRLlzBTnKE"
      }
    },
    {
      "cell_type": "code",
      "source": [
        "import pandas as pd"
      ],
      "metadata": {
        "id": "_h8NAccBUB5H"
      },
      "execution_count": null,
      "outputs": []
    }
  ]
}