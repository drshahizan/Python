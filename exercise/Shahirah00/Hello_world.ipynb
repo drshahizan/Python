{
  "nbformat": 4,
  "nbformat_minor": 0,
  "metadata": {
    "colab": {
      "provenance": [],
      "toc_visible": true,
      "authorship_tag": "ABX9TyNgy+6Xq7B6WHHfJqTOgdSn",
      "include_colab_link": true
    },
    "kernelspec": {
      "name": "python3",
      "display_name": "Python 3"
    },
    "language_info": {
      "name": "python"
    }
  },
  "cells": [
    {
      "cell_type": "markdown",
      "metadata": {
        "id": "view-in-github",
        "colab_type": "text"
      },
      "source": [
        "<a href=\"https://colab.research.google.com/github/Shahirah00/BDM/blob/main/exercise/Shahirah00/Hello_world.ipynb\" target=\"_parent\"><img src=\"https://colab.research.google.com/assets/colab-badge.svg\" alt=\"Open In Colab\"/></a>"
      ]
    },
    {
      "cell_type": "markdown",
      "source": [
        "# Hello world\n",
        "## Hello world\n",
        "### Hello world\n",
        "#### Hello world"
      ],
      "metadata": {
        "id": "j7o29MuKQMnz"
      }
    },
    {
      "cell_type": "markdown",
      "source": [
        "#### My info"
      ],
      "metadata": {
        "id": "SmYO6ZjpQmU3"
      }
    }
  ]
}