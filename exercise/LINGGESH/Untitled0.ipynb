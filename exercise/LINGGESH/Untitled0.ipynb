{
  "nbformat": 4,
  "nbformat_minor": 0,
  "metadata": {
    "colab": {
      "provenance": []
    },
    "kernelspec": {
      "name": "python3",
      "display_name": "Python 3"
    },
    "language_info": {
      "name": "python"
    }
  },
  "cells": [
    {
      "cell_type": "markdown",
      "source": [
        "# Hello World\n",
        "## Hello World\n",
        "### Hello World\n",
        "#### Hello World\n",
        "\n"
      ],
      "metadata": {
        "id": "ljGQAuV7QIKC"
      }
    },
    {
      "cell_type": "markdown",
      "source": [
        "#### My Info"
      ],
      "metadata": {
        "id": "cWWP7oJhSUin"
      }
    },
    {
      "cell_type": "markdown",
      "source": [],
      "metadata": {
        "id": "yJpGgtCzSaRy"
      }
    }
  ]
}