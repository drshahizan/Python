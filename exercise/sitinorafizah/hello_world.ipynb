{
  "nbformat": 4,
  "nbformat_minor": 0,
  "metadata": {
    "colab": {
      "provenance": [],
      "toc_visible": true
    },
    "kernelspec": {
      "name": "python3",
      "display_name": "Python 3"
    },
    "language_info": {
      "name": "python"
    }
  },
  "cells": [
    {
      "cell_type": "markdown",
      "source": [
        "# Hello World\n",
        "## Hello World\n",
        "### Hello World\n",
        "#### Hello World"
      ],
      "metadata": {
        "id": "2kCG7YsQQHux"
      }
    },
    {
      "cell_type": "markdown",
      "source": [
        "# Myinfo\n",
        "Name : Siti Norafizah"
      ],
      "metadata": {
        "id": "0iMVuQa7Qbsw"
      }
    },
    {
      "cell_type": "code",
      "execution_count": null,
      "metadata": {
        "id": "T_fBp4dSQGnW"
      },
      "outputs": [],
      "source": [
        "import numpy as np"
      ]
    }
  ]
}