{
  "nbformat": 4,
  "nbformat_minor": 0,
  "metadata": {
    "colab": {
      "provenance": [],
      "toc_visible": true,
      "authorship_tag": "ABX9TyOVTdakrN6m3NhEuIIZVntQ",
      "include_colab_link": true
    },
    "kernelspec": {
      "name": "python3",
      "display_name": "Python 3"
    },
    "language_info": {
      "name": "python"
    }
  },
  "cells": [
    {
      "cell_type": "markdown",
      "metadata": {
        "id": "view-in-github",
        "colab_type": "text"
      },
      "source": [
        "<a href=\"https://colab.research.google.com/github/drshahizan/python-tutorial/blob/main/exercise/zuhayraz/hello_world.ipynb\" target=\"_parent\"><img src=\"https://colab.research.google.com/assets/colab-badge.svg\" alt=\"Open In Colab\"/></a>"
      ]
    },
    {
      "cell_type": "markdown",
      "source": [
        "# Hello World!\n",
        "## Hello World!\n",
        "### Hello World!\n",
        "#### Hello World!\n",
        "##### Hello World!"
      ],
      "metadata": {
        "id": "YXgWamDJQSUJ"
      }
    },
    {
      "cell_type": "markdown",
      "source": [
        "## My info\n",
        "\n"
      ],
      "metadata": {
        "id": "7Rod3qRIQiiM"
      }
    },
    {
      "cell_type": "code",
      "execution_count": null,
      "metadata": {
        "id": "SEXJRwZqQQ3t"
      },
      "outputs": [],
      "source": [
        "import numpy as np\n",
        "import pandas as pd"
      ]
    },
    {
      "cell_type": "code",
      "source": [],
      "metadata": {
        "id": "2BycHie9Q0e1"
      },
      "execution_count": null,
      "outputs": []
    }
  ]
}