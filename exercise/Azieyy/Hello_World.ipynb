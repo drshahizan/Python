{
  "nbformat": 4,
  "nbformat_minor": 0,
  "metadata": {
    "colab": {
      "provenance": [],
      "authorship_tag": "ABX9TyOqy6fedyjCJD5UcldgcAl/",
      "include_colab_link": true
    },
    "kernelspec": {
      "name": "python3",
      "display_name": "Python 3"
    },
    "language_info": {
      "name": "python"
    }
  },
  "cells": [
    {
      "cell_type": "markdown",
      "metadata": {
        "id": "view-in-github",
        "colab_type": "text"
      },
      "source": [
        "<a href=\"https://colab.research.google.com/github/drshahizan/python-tutorial/blob/main/exercise/Azieyy/Hello_World.ipynb\" target=\"_parent\"><img src=\"https://colab.research.google.com/assets/colab-badge.svg\" alt=\"Open In Colab\"/></a>"
      ]
    },
    {
      "cell_type": "markdown",
      "source": [
        "# Hello World!\n",
        "## Hello World!\n",
        "### Hello World!\n",
        "#### Hello World!"
      ],
      "metadata": {
        "id": "pHzLHYsqQNA-"
      }
    },
    {
      "cell_type": "markdown",
      "source": [
        "## My Info\n",
        "\n",
        "## About Me\n",
        "I am a full time Master degree student in Data Science field. Dealing with data during my internship make me want to pursue in depth of Data Science. I want to see with my own eyes how Data Science will shape the future through prediction in Data Analysis.\n",
        "\n",
        "\n",
        "## Education\n",
        "- **Degree:** Master in Science (Data Science) [ongoing]\n",
        "  - **Institution:** Universiti Teknologi Malaysia\n",
        "  \n",
        "- **Degree:** Bachelor in Computer Science (Software Engineering)\n",
        "  - **Institution:** Universiti Tun Hussein Onn Malaysia\n",
        "  - **Graduation Year:** 2022"
      ],
      "metadata": {
        "id": "xmxcnuq4QmJq"
      }
    },
    {
      "cell_type": "code",
      "source": [
        "import"
      ],
      "metadata": {
        "id": "KWDu3Fx1RKJI"
      },
      "execution_count": null,
      "outputs": []
    }
  ]
}