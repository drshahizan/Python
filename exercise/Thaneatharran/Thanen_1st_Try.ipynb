{
  "nbformat": 4,
  "nbformat_minor": 0,
  "metadata": {
    "colab": {
      "provenance": [],
      "toc_visible": true,
      "authorship_tag": "ABX9TyNlE03bCfiCasqF41IJZnh1",
      "include_colab_link": true
    },
    "kernelspec": {
      "name": "python3",
      "display_name": "Python 3"
    },
    "language_info": {
      "name": "python"
    }
  },
  "cells": [
    {
      "cell_type": "markdown",
      "metadata": {
        "id": "view-in-github",
        "colab_type": "text"
      },
      "source": [
        "<a href=\"https://colab.research.google.com/github/drshahizan/python-tutorial/blob/main/exercise/Thaneatharran/Thanen_1st_Try.ipynb\" target=\"_parent\"><img src=\"https://colab.research.google.com/assets/colab-badge.svg\" alt=\"Open In Colab\"/></a>"
      ]
    },
    {
      "cell_type": "markdown",
      "source": [
        "# Hello World\n",
        "## Hello World\n",
        "### Hello World"
      ],
      "metadata": {
        "id": "d_Xy4ejoQLde"
      }
    },
    {
      "cell_type": "markdown",
      "source": [
        "# My Information\n",
        "Thaneatharran Santharasekaran\n",
        "\n"
      ],
      "metadata": {
        "id": "LVsryvjWQazv"
      }
    },
    {
      "cell_type": "code",
      "execution_count": null,
      "metadata": {
        "id": "KnpVGrlEQD_V"
      },
      "outputs": [],
      "source": [
        "import"
      ]
    }
  ]
}