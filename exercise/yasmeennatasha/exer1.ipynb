{
  "nbformat": 4,
  "nbformat_minor": 0,
  "metadata": {
    "colab": {
      "provenance": [],
      "toc_visible": true
    },
    "kernelspec": {
      "name": "python3",
      "display_name": "Python 3"
    },
    "language_info": {
      "name": "python"
    }
  },
  "cells": [
    {
      "cell_type": "code",
      "execution_count": null,
      "metadata": {
        "id": "2hZxwR7fbQsS"
      },
      "outputs": [],
      "source": []
    },
    {
      "cell_type": "markdown",
      "source": [
        "# Basic Information\n",
        "\n",
        "## Hello World\n",
        "### Hello World\n",
        "#### Hello World\n"
      ],
      "metadata": {
        "id": "i5xqUs2YbX98"
      }
    },
    {
      "cell_type": "markdown",
      "source": [
        "**Google Colab, short for Google Colaboratory, is a free cloud-based platform that provides a convenient environment for machine learning and data science enthusiasts. **"
      ],
      "metadata": {
        "id": "upi-p1Kvb4a8"
      }
    },
    {
      "cell_type": "code",
      "source": [
        "pip install numpy"
      ],
      "metadata": {
        "colab": {
          "base_uri": "https://localhost:8080/"
        },
        "id": "eQ58wXkBdaox",
        "outputId": "11c50ff9-1d20-4365-e01d-984f20cd7382"
      },
      "execution_count": null,
      "outputs": [
        {
          "output_type": "stream",
          "name": "stdout",
          "text": [
            "Requirement already satisfied: numpy in /usr/local/lib/python3.10/dist-packages (1.23.5)\n"
          ]
        }
      ]
    },
    {
      "cell_type": "markdown",
      "source": [
        "# Markdown Guide\n",
        "# Section 1\n",
        "# Section 2\n",
        "## Sub-section under Section 2\n",
        "### Sub-section under the sub-section under Section 2\n",
        "# Section 3\n",
        ">One level of indentation\n",
        ">>Two levels of indentation\n",
        "\n",
        "### Code blocks\n",
        "```python\n",
        "print(\"a\")\n",
        "```\n",
        "\n",
        "### Ordered lists\n",
        "1. One\n",
        "1. Two\n",
        "1. Three\n",
        "\n",
        "### Unordered lists\n",
        "* One\n",
        "* Two\n",
        "* Three\n",
        "\n",
        "### Equations\n",
        "$y=x^2$\n",
        "\n",
        "$e^{i\\pi} + 1 = 0$\n",
        "\n",
        "$e^x=\\sum_{i=0}^\\infty \\frac{1}{i!}x^i$\n",
        "\n",
        "$\\frac{n!}{k!(n-k)!} = {n \\choose k}$\n",
        "\n",
        "$A_{m,n} =\n",
        " \\begin{pmatrix}\n",
        "  a_{1,1} & a_{1,2} & \\cdots & a_{1,n} \\\\\n",
        "  a_{2,1} & a_{2,2} & \\cdots & a_{2,n} \\\\\n",
        "  \\vdots  & \\vdots  & \\ddots & \\vdots  \\\\\n",
        "  a_{m,1} & a_{m,2} & \\cdots & a_{m,n}\n",
        " \\end{pmatrix}$\n",
        "\n",
        " ### Tables\n",
        " First column name  | Second column name\n",
        "-------------------|------------------\n",
        "Row 1, Col 1       | Row 1, Col 2\n",
        "Row 2, Col 1       | Row 2, Col 2\n",
        "\n",
        "### Horizontal rules\n",
        "---\n"
      ],
      "metadata": {
        "id": "pug8u9YdgQSL"
      }
    },
    {
      "cell_type": "code",
      "source": [],
      "metadata": {
        "id": "UF3OMurggpK5"
      },
      "execution_count": null,
      "outputs": []
    }
  ]
}