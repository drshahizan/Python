{
  "nbformat": 4,
  "nbformat_minor": 0,
  "metadata": {
    "colab": {
      "provenance": [],
      "toc_visible": true,
      "authorship_tag": "ABX9TyO5RReU/WFjaejQXFzNr5e6",
      "include_colab_link": true
    },
    "kernelspec": {
      "name": "python3",
      "display_name": "Python 3"
    },
    "language_info": {
      "name": "python"
    }
  },
  "cells": [
    {
      "cell_type": "markdown",
      "metadata": {
        "id": "view-in-github",
        "colab_type": "text"
      },
      "source": [
        "<a href=\"https://colab.research.google.com/github/drshahizan/python-tutorial/blob/main/exercise/Ayaz/Hello_World.ipynb\" target=\"_parent\"><img src=\"https://colab.research.google.com/assets/colab-badge.svg\" alt=\"Open In Colab\"/></a>"
      ]
    },
    {
      "cell_type": "markdown",
      "source": [
        "#Hello World\n",
        "##Hello World\n",
        "###Hello World\n",
        "####Hello World\n"
      ],
      "metadata": {
        "id": "gm7hS8oESBM3"
      }
    },
    {
      "cell_type": "markdown",
      "source": [
        "My Info"
      ],
      "metadata": {
        "id": "g1mZQ11MSmNk"
      }
    },
    {
      "cell_type": "code",
      "source": [],
      "metadata": {
        "id": "JI7n5Wv0Snil"
      },
      "execution_count": null,
      "outputs": []
    }
  ]
}